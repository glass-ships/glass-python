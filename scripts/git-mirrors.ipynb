{
 "cells": [
  {
   "cell_type": "code",
   "execution_count": 1,
   "metadata": {},
   "outputs": [],
   "source": [
    "import os\n",
    "from subprocess import call, STDOUT\n",
    "from git import Repo"
   ]
  },
  {
   "cell_type": "code",
   "execution_count": 2,
   "metadata": {},
   "outputs": [],
   "source": [
    "directory = '/data/git'\n",
    "extension = '.git'\n",
    "\n",
    "# Find all git repositories in a top-tree directory\n",
    "repos = []\n",
    "repos_gitlab = []\n",
    "for dirpath, dirnames, files in os.walk(directory):\n",
    "    for i in dirnames:\n",
    "        if (extension and i.lower().endswith(extension)) and (os.path.isfile(os.path.join(dirpath, i, 'config'))):\n",
    "            repos.append(os.path.join(dirpath, i))\n",
    "\n",
    "# TEMP remove overly large boi from list\n",
    "del repos[repos.index('/data/git/DMC/CDMS_DetectorMC.git')]\n",
    "\n",
    "# create list of GitLab remotes\n",
    "remotes = [i.replace('/data/git','supercdms') for i in repos]"
   ]
  },
  {
   "cell_type": "code",
   "execution_count": 3,
   "metadata": {},
   "outputs": [
    {
     "name": "stdout",
     "output_type": "stream",
     "text": [
      "--------\n",
      " /data/git/snolab_standards.git  failed: \n",
      " Cmd('git') failed due to: exit code(128)\n",
      "  cmdline: git push --porcelain gitlab\n",
      "  stderr: 'fatal: Could not read from remote repository.\n",
      "\n",
      "Please make sure you have the correct access rights\n",
      "and the repository exists.' \n",
      "\n",
      "--------\n",
      " /data/git/Tutorials/example_noise.git  failed: \n",
      " Cmd('git') failed due to: exit code(128)\n",
      "  cmdline: git push --porcelain gitlab\n",
      "  stderr: 'fatal: Could not read from remote repository.\n",
      "\n",
      "Please make sure you have the correct access rights\n",
      "and the repository exists.' \n",
      "\n"
     ]
    }
   ],
   "source": [
    "# The Loop: push if gitlab mirror exists, create and push if not\n",
    "\n",
    "for i in range(len(repos)):\n",
    "    config_file = os.path.join(repos[i], 'config')\n",
    "    with open(config_file, mode='r', encoding='iso-8859-15') as file:\n",
    "        if 'gitlab' in file.read():\n",
    "            try:\n",
    "                repo = Repo(repos[i])\n",
    "                remote = repo.remote(name='gitlab')\n",
    "                remote.push()\n",
    "                #print(repos[i],' success')\n",
    "            except Exception as e:\n",
    "                print('--------\\n',repos[i],' failed: \\n',e,'\\n')\n",
    "            \n",
    "        else: \n",
    "            print(repos[i],' does not exist. creating and pushing')\n",
    "            try:\n",
    "                repo = Repo(repos[i])\n",
    "                remote = repo.create_remote('gitlab', url='git@gitlab.com:{}'.format(remotes[i]))\n",
    "                remote.push()\n",
    "            except Exception as e:\n",
    "                print('--------\\n',repos[i],' failed: \\n',e,'\\n')"
   ]
  }
 ],
 "metadata": {
  "kernelspec": {
   "display_name": "Python 3",
   "language": "python",
   "name": "python3"
  },
  "language_info": {
   "codemirror_mode": {
    "name": "ipython",
    "version": 3
   },
   "file_extension": ".py",
   "mimetype": "text/x-python",
   "name": "python",
   "nbconvert_exporter": "python",
   "pygments_lexer": "ipython3",
   "version": "3.8.5"
  }
 },
 "nbformat": 4,
 "nbformat_minor": 4
}
